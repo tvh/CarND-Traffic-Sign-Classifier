{
 "cells": [
  {
   "cell_type": "markdown",
   "metadata": {},
   "source": [
    "# Self-Driving Car Engineer Nanodegree\n",
    "\n",
    "## Deep Learning\n",
    "\n",
    "## Project: Build a Traffic Sign Recognition Classifier\n",
    "\n",
    "In this notebook, a template is provided for you to implement your functionality in stages, which is required to successfully complete this project. If additional code is required that cannot be included in the notebook, be sure that the Python code is successfully imported and included in your submission if necessary. \n",
    "\n",
    "> **Note**: Once you have completed all of the code implementations, you need to finalize your work by exporting the iPython Notebook as an HTML document. Before exporting the notebook to html, all of the code cells need to have been run so that reviewers can see the final implementation and output. You can then export the notebook by using the menu above and navigating to  \\n\",\n",
    "    \"**File -> Download as -> HTML (.html)**. Include the finished document along with this notebook as your submission. \n",
    "\n",
    "In addition to implementing code, there is a writeup to complete. The writeup should be completed in a separate file, which can be either a markdown file or a pdf document. There is a [write up template](https://github.com/udacity/CarND-Traffic-Sign-Classifier-Project/blob/master/writeup_template.md) that can be used to guide the writing process. Completing the code template and writeup template will cover all of the [rubric points](https://review.udacity.com/#!/rubrics/481/view) for this project.\n",
    "\n",
    "The [rubric](https://review.udacity.com/#!/rubrics/481/view) contains \"Stand Out Suggestions\" for enhancing the project beyond the minimum requirements. The stand out suggestions are optional. If you decide to pursue the \"stand out suggestions\", you can include the code in this Ipython notebook and also discuss the results in the writeup file.\n",
    "\n",
    "\n",
    ">**Note:** Code and Markdown cells can be executed using the **Shift + Enter** keyboard shortcut. In addition, Markdown cells can be edited by typically double-clicking the cell to enter edit mode."
   ]
  },
  {
   "cell_type": "code",
   "execution_count": 1,
   "metadata": {},
   "outputs": [
    {
     "data": {
      "text/plain": [
       "features    object\n",
       "labels       int64\n",
       "sizes       object\n",
       "coords      object\n",
       "dtype: object"
      ]
     },
     "execution_count": 1,
     "metadata": {},
     "output_type": "execute_result"
    }
   ],
   "source": [
    "# Prepare the data I don't have yet\n",
    "import cv2\n",
    "import os\n",
    "import numpy as np\n",
    "import pandas as pd\n",
    "from matplotlib import pyplot as plt\n",
    "\n",
    "basepath = \"/home/tvh/ml/data/GTSRB/\"\n",
    "\n",
    "def read_csv(path):\n",
    "    return pd.read_csv(path, sep=\";\")\n",
    "\n",
    "\n",
    "def loadAndShrink(fileName,basepath):\n",
    "    raw_image = cv2.imread(basepath+fileName)\n",
    "    color_corrected_image = cv2.cvtColor(raw_image, cv2.COLOR_BGR2RGB)\n",
    "    return cv2.resize(color_corrected_image, (32,32))\n",
    "\n",
    "def reshape_data(raw_data, basepath):\n",
    "    res_data = raw_data.copy()\n",
    "    res_data[\"features\"] = res_data[\"Filename\"].map(lambda fn: loadAndShrink(fn, basepath))\n",
    "    res_data[\"labels\"] = res_data[\"ClassId\"]\n",
    "    res_data[\"sizes\"] = list(zip(raw_data[\"Width\"], raw_data[\"Height\"]))\n",
    "    res_data[\"coords\"] = list(zip(raw_data[\"Roi.X1\"], raw_data[\"Roi.Y1\"], raw_data[\"Roi.X2\"], raw_data[\"Roi.Y2\"]))\n",
    "    return res_data.filter([\"features\", \"labels\", \"sizes\", \"coords\"], axis=1)\n",
    "\n",
    "def read_training(basepath):\n",
    "    allData = []\n",
    "    for i in range(0,43):\n",
    "        csv_path = basepath + \"Final_Training/Images/%05d/GT-%05d.csv\" % (i,i)\n",
    "        csv_content = read_csv(csv_path)\n",
    "        allData.append(reshape_data(csv_content, basepath + \"Final_Training/Images/%05d/\"%i))\n",
    "    return pd.concat(allData)\n",
    "\n",
    "clean_data = read_training(basepath)\n",
    "clean_data.dtypes"
   ]
  },
  {
   "cell_type": "code",
   "execution_count": 2,
   "metadata": {},
   "outputs": [
    {
     "data": {
      "text/plain": [
       "((27446, 4), (11763, 4))"
      ]
     },
     "execution_count": 2,
     "metadata": {},
     "output_type": "execute_result"
    }
   ],
   "source": [
    "from sklearn.model_selection import train_test_split\n",
    "\n",
    "train, valid, _, _ = train_test_split(clean_data, clean_data[\"labels\"], test_size=0.3, random_state=42)\n",
    "train.shape, valid.shape"
   ]
  },
  {
   "cell_type": "code",
   "execution_count": 3,
   "metadata": {},
   "outputs": [
    {
     "data": {
      "text/plain": [
       "(12630, 4)"
      ]
     },
     "execution_count": 3,
     "metadata": {},
     "output_type": "execute_result"
    }
   ],
   "source": [
    "raw_test = read_csv(basepath+\"GT-final_test.csv\")\n",
    "test = reshape_data(raw_test, basepath + \"Final_Test/Images/\")\n",
    "test.shape"
   ]
  },
  {
   "cell_type": "markdown",
   "metadata": {},
   "source": [
    "---\n",
    "## Step 0: Load The Data"
   ]
  },
  {
   "cell_type": "code",
   "execution_count": 4,
   "metadata": {
    "collapsed": true
   },
   "outputs": [],
   "source": [
    "# Load pickled data\n",
    "import pickle\n",
    "\n",
    "# TODO: Fill this in based on where you saved the training and testing data\n",
    "\n",
    "'''\n",
    "training_file = ?\n",
    "validation_file=?\n",
    "testing_file = ?\n",
    "\n",
    "with open(training_file, mode='rb') as f:\n",
    "    train = pickle.load(f)\n",
    "with open(validation_file, mode='rb') as f:\n",
    "    valid = pickle.load(f)\n",
    "with open(testing_file, mode='rb') as f:\n",
    "    test = pickle.load(f)\n",
    "'''\n",
    "    \n",
    "X_train, y_train = train['features'], train['labels']\n",
    "X_valid, y_valid = valid['features'], valid['labels']\n",
    "X_test, y_test = test['features'], test['labels']"
   ]
  },
  {
   "cell_type": "markdown",
   "metadata": {},
   "source": [
    "---\n",
    "\n",
    "## Step 1: Dataset Summary & Exploration\n",
    "\n",
    "The pickled data is a dictionary with 4 key/value pairs:\n",
    "\n",
    "- `'features'` is a 4D array containing raw pixel data of the traffic sign images, (num examples, width, height, channels).\n",
    "- `'labels'` is a 1D array containing the label/class id of the traffic sign. The file `signnames.csv` contains id -> name mappings for each id.\n",
    "- `'sizes'` is a list containing tuples, (width, height) representing the original width and height the image.\n",
    "- `'coords'` is a list containing tuples, (x1, y1, x2, y2) representing coordinates of a bounding box around the sign in the image. **THESE COORDINATES ASSUME THE ORIGINAL IMAGE. THE PICKLED DATA CONTAINS RESIZED VERSIONS (32 by 32) OF THESE IMAGES**\n",
    "\n",
    "Complete the basic data summary below. Use python, numpy and/or pandas methods to calculate the data summary rather than hard coding the results. For example, the [pandas shape method](http://pandas.pydata.org/pandas-docs/stable/generated/pandas.DataFrame.shape.html) might be useful for calculating some of the summary results. "
   ]
  },
  {
   "cell_type": "markdown",
   "metadata": {},
   "source": [
    "### Provide a Basic Summary of the Data Set Using Python, Numpy and/or Pandas"
   ]
  },
  {
   "cell_type": "code",
   "execution_count": 5,
   "metadata": {},
   "outputs": [
    {
     "name": "stdout",
     "output_type": "stream",
     "text": [
      "Number of training examples = 27447\n",
      "Number of testing examples = 12631\n",
      "Image data shape = (32, 32, 3)\n",
      "Number of classes = 43\n"
     ]
    }
   ],
   "source": [
    "### Replace each question mark with the appropriate value. \n",
    "### Use python, pandas or numpy methods rather than hard coding the results\n",
    "\n",
    "# TODO: Number of training examples\n",
    "n_train = X_train.count()+1\n",
    "\n",
    "# TODO: Number of validation examples\n",
    "n_validation = X_valid.count()+1\n",
    "\n",
    "# TODO: Number of testing examples.\n",
    "n_test = X_test.count()+1\n",
    "\n",
    "# TODO: What's the shape of an traffic sign image?\n",
    "image_shape = X_train.iloc[0].shape\n",
    "\n",
    "# TODO: How many unique classes/labels there are in the dataset.\n",
    "n_classes = y_train.drop_duplicates().size\n",
    "\n",
    "print(\"Number of training examples =\", n_train)\n",
    "print(\"Number of testing examples =\", n_test)\n",
    "print(\"Image data shape =\", image_shape)\n",
    "print(\"Number of classes =\", n_classes)"
   ]
  },
  {
   "cell_type": "markdown",
   "metadata": {},
   "source": [
    "### Include an exploratory visualization of the dataset"
   ]
  },
  {
   "cell_type": "markdown",
   "metadata": {},
   "source": [
    "Visualize the German Traffic Signs Dataset using the pickled file(s). This is open ended, suggestions include: plotting traffic sign images, plotting the count of each sign, etc. \n",
    "\n",
    "The [Matplotlib](http://matplotlib.org/) [examples](http://matplotlib.org/examples/index.html) and [gallery](http://matplotlib.org/gallery.html) pages are a great resource for doing visualizations in Python.\n",
    "\n",
    "**NOTE:** It's recommended you start with something simple first. If you wish to do more, come back to it after you've completed the rest of the sections. It can be interesting to look at the distribution of classes in the training, validation and test set. Is the distribution the same? Are there more examples of some classes than others?"
   ]
  },
  {
   "cell_type": "code",
   "execution_count": 6,
   "metadata": {},
   "outputs": [
    {
     "data": {
      "image/png": "[encoded data removed]",
      "text/plain": [
       "<matplotlib.figure.Figure at 0x7f8558091dd8>"
      ]
     },
     "metadata": {},
     "output_type": "display_data"
    }
   ],
   "source": [
    "### Data exploration visualization code goes here.\n",
    "### Feel free to use as many code cells as needed.\n",
    "import matplotlib.pyplot as plt\n",
    "# Visualizations will be shown in the notebook.\n",
    "%matplotlib inline\n",
    "\n",
    "# histogram of label frequency\n",
    "hist, bins = np.histogram(y_train, bins=n_classes)\n",
    "width = 0.7 * (bins[1] - bins[0])\n",
    "center = (bins[:-1] + bins[1:]) / 2\n",
    "plt.bar(center, hist, align='center', width=width)\n",
    "plt.show()"
   ]
  },
  {
   "cell_type": "code",
   "execution_count": 7,
   "metadata": {},
   "outputs": [
    {
     "data": {
      "image/png": "[encoded data removed]",
      "text/plain": [
       "<matplotlib.figure.Figure at 0x7f859c0fdeb8>"
      ]
     },
     "metadata": {},
     "output_type": "display_data"
    }
   ],
   "source": [
    "# histogram of label frequency\n",
    "hist, bins = np.histogram(y_valid, bins=n_classes)\n",
    "width = 0.7 * (bins[1] - bins[0])\n",
    "center = (bins[:-1] + bins[1:]) / 2\n",
    "plt.bar(center, hist, align='center', width=width)\n",
    "plt.show()"
   ]
  },
  {
   "cell_type": "code",
   "execution_count": 8,
   "metadata": {},
   "outputs": [
    {
     "data": {
      "image/png": "[encoded data removed]",
      "text/plain": [
       "<matplotlib.figure.Figure at 0x7f854b819550>"
      ]
     },
     "metadata": {},
     "output_type": "display_data"
    },
    {
     "data": {
      "image/png": "[encoded data removed]",
      "text/plain": [
       "<matplotlib.figure.Figure at 0x7f854b807860>"
      ]
     },
     "metadata": {},
     "output_type": "display_data"
    },
    {
     "data": {
      "image/png": "[encoded data removed]",
      "text/plain": [
       "<matplotlib.figure.Figure at 0x7f854b81b198>"
      ]
     },
     "metadata": {},
     "output_type": "display_data"
    },
    {
     "data": {
      "image/png": "[encoded data removed]",
      "text/plain": [
       "<matplotlib.figure.Figure at 0x7f854b7288d0>"
      ]
     },
     "metadata": {},
     "output_type": "display_data"
    },
    {
     "data": {
      "image/png": "[encoded data removed]",
      "text/plain": [
       "<matplotlib.figure.Figure at 0x7f854b768a90>"
      ]
     },
     "metadata": {},
     "output_type": "display_data"
    },
    {
     "data": {
      "image/png": "[encoded data removed]",
      "text/plain": [
       "<matplotlib.figure.Figure at 0x7f854b6c66a0>"
      ]
     },
     "metadata": {},
     "output_type": "display_data"
    },
    {
     "data": {
      "image/png": "[encoded data removed]",
      "text/plain": [
       "<matplotlib.figure.Figure at 0x7f854b702278>"
      ]
     },
     "metadata": {},
     "output_type": "display_data"
    },
    {
     "data": {
      "image/png": "[encoded data removed]",
      "text/plain": [
       "<matplotlib.figure.Figure at 0x7f854b5e2080>"
      ]
     },
     "metadata": {},
     "output_type": "display_data"
    },
    {
     "data": {
      "image/png": "[encoded data removed]",
      "text/plain": [
       "<matplotlib.figure.Figure at 0x7f854b624828>"
      ]
     },
     "metadata": {},
     "output_type": "display_data"
    },
    {
     "data": {
      "image/png": "[encoded data removed]",
      "text/plain": [
       "<matplotlib.figure.Figure at 0x7f854b57ba58>"
      ]
     },
     "metadata": {},
     "output_type": "display_data"
    }
   ],
   "source": [
    "groupedByLabel = train.groupby([\"labels\"])\n",
    "\n",
    "def showInFig(image):\n",
    "    plt.figure()\n",
    "    plt.imshow(image,cmap='Greys_r')\n",
    "    plt.axis('off')\n",
    "\n",
    "groupedByLabel.apply(lambda x: x.iloc[0])[\"features\"].sample(n=10, random_state=42).map(showInFig)\n",
    "plt.show()"
   ]
  },
  {
   "cell_type": "markdown",
   "metadata": {},
   "source": [
    "----\n",
    "\n",
    "## Step 2: Design and Test a Model Architecture\n",
    "\n",
    "Design and implement a deep learning model that learns to recognize traffic signs. Train and test your model on the [German Traffic Sign Dataset](http://benchmark.ini.rub.de/?section=gtsrb&subsection=dataset).\n",
    "\n",
    "The LeNet-5 implementation shown in the [classroom](https://classroom.udacity.com/nanodegrees/nd013/parts/fbf77062-5703-404e-b60c-95b78b2f3f9e/modules/6df7ae49-c61c-4bb2-a23e-6527e69209ec/lessons/601ae704-1035-4287-8b11-e2c2716217ad/concepts/d4aca031-508f-4e0b-b493-e7b706120f81) at the end of the CNN lesson is a solid starting point. You'll have to change the number of classes and possibly the preprocessing, but aside from that it's plug and play! \n",
    "\n",
    "With the LeNet-5 solution from the lecture, you should expect a validation set accuracy of about 0.89. To meet specifications, the validation set accuracy will need to be at least 0.93. It is possible to get an even higher accuracy, but 0.93 is the minimum for a successful project submission. \n",
    "\n",
    "There are various aspects to consider when thinking about this problem:\n",
    "\n",
    "- Neural network architecture (is the network over or underfitting?)\n",
    "- Play around preprocessing techniques (normalization, rgb to grayscale, etc)\n",
    "- Number of examples per label (some have more than others).\n",
    "- Generate fake data.\n",
    "\n",
    "Here is an example of a [published baseline model on this problem](http://yann.lecun.com/exdb/publis/pdf/sermanet-ijcnn-11.pdf). It's not required to be familiar with the approach used in the paper but, it's good practice to try to read papers like these."
   ]
  },
  {
   "cell_type": "markdown",
   "metadata": {},
   "source": [
    "### Pre-process the Data Set (normalization, grayscale, etc.)"
   ]
  },
  {
   "cell_type": "markdown",
   "metadata": {},
   "source": [
    "Minimally, the image data should be normalized so that the data has mean zero and equal variance. For image data, `(pixel - 128)/ 128` is a quick way to approximately normalize the data and can be used in this project. \n",
    "\n",
    "Other pre-processing steps are optional. You can try different techniques to see if it improves performance. \n",
    "\n",
    "Use the code cell (or multiple code cells, if necessary) to implement the first step of your project."
   ]
  },
  {
   "cell_type": "code",
   "execution_count": 112,
   "metadata": {
    "collapsed": true
   },
   "outputs": [],
   "source": [
    "def apply_Clahe(img):\n",
    "    # https://stackoverflow.com/questions/24341114/simple-illumination-correction-in-images-opencv-c/24341809#24341809\n",
    "    #-----Converting image to LAB Color model----------------------------------- \n",
    "    lab = cv2.cvtColor(img, cv2.COLOR_RGB2YUV)\n",
    "\n",
    "    #-----Splitting the LAB image to different channels-------------------------\n",
    "    l, a, b = cv2.split(lab)\n",
    "\n",
    "    #-----Applying CLAHE to L-channel-------------------------------------------\n",
    "    clahe = cv2.createCLAHE(clipLimit=3.0, tileGridSize=(8,8))\n",
    "    cl = clahe.apply(l)\n",
    "\n",
    "    #-----Merge the CLAHE enhanced L-channel with the a and b channel-----------\n",
    "    limg = cv2.merge((cl, a, b))\n",
    "    \n",
    "    return limg\n",
    "\n",
    "def transform_image(img):\n",
    "    img_lab = apply_Clahe(img)\n",
    "    return ((img_lab / 255) - 0.5)\n",
    "\n",
    "def transform_dataset(features):\n",
    "    return np.stack(features.map(transform_image).values, axis=0)\n",
    "\n",
    "X_train_transformed = transform_dataset(X_train)\n",
    "X_valid_transformed = transform_dataset(X_valid)\n",
    "X_test_transformed = transform_dataset(X_test)"
   ]
  },
  {
   "cell_type": "code",
   "execution_count": 63,
   "metadata": {
    "collapsed": true
   },
   "outputs": [],
   "source": [
    "import keras\n",
    "from keras.preprocessing.image import ImageDataGenerator\n",
    "\n",
    "datagen = keras.preprocessing.image.ImageDataGenerator(\n",
    "    rotation_range=8,\n",
    "    width_shift_range=0.1,\n",
    "    height_shift_range=0.1,\n",
    "    shear_range=0.1,\n",
    "    zoom_range=0.1,\n",
    "    fill_mode='nearest',\n",
    "    horizontal_flip=False,\n",
    "    vertical_flip=False\n",
    ")"
   ]
  },
  {
   "cell_type": "code",
   "execution_count": 64,
   "metadata": {},
   "outputs": [
    {
     "name": "stderr",
     "output_type": "stream",
     "text": [
      "\r",
      "  0%|          | 0/43 [00:00<?, ?it/s]"
     ]
    },
    {
     "name": "stdout",
     "output_type": "stream",
     "text": [
      "Augmenting Image Data...\n"
     ]
    },
    {
     "name": "stderr",
     "output_type": "stream",
     "text": [
      "100%|██████████| 43/43 [00:21<00:00,  1.31it/s]\n"
     ]
    }
   ],
   "source": [
    "import os\n",
    "import numpy as np\n",
    "from tqdm import tqdm\n",
    "from sklearn.utils import shuffle\n",
    "\n",
    "total_image_per_class = 2000\n",
    "X_train_augmented = np.empty((0,32,32,3))\n",
    "y_train_augmented = np.empty(0,dtype='uint8')\n",
    "\n",
    "print('Augmenting Image Data...')\n",
    "for i in tqdm(range(n_classes)):\n",
    "    index = [y_train==i]\n",
    "    images_for_i_class = X_train_transformed[y_train==i]\n",
    "    y_i_class = y_train[y_train==i]\n",
    "    \n",
    "    X_train_augmented_i = np.copy(images_for_i_class)\n",
    "    y_train_augmented_i = np.copy(y_i_class)\n",
    "        \n",
    "    for X,y in datagen.flow(images_for_i_class, y_i_class, batch_size=len(y_i_class), seed=9345+i*37):            \n",
    "        X_train_augmented_i = np.append(X_train_augmented_i, X, axis=0)\n",
    "        y_train_augmented_i = np.append(y_train_augmented_i, y, axis=0)\n",
    "        \n",
    "        if len(X_train_augmented_i) >= total_image_per_class:\n",
    "            break\n",
    "\n",
    "    X_train_augmented = np.append(X_train_augmented, X_train_augmented_i[:5000], axis=0)\n",
    "    y_train_augmented = np.append(y_train_augmented, y_train_augmented_i[:5000], axis=0) "
   ]
  },
  {
   "cell_type": "markdown",
   "metadata": {},
   "source": [
    "### Model Architecture"
   ]
  },
  {
   "cell_type": "code",
   "execution_count": 65,
   "metadata": {
    "collapsed": true
   },
   "outputs": [],
   "source": [
    "### Define your architecture here.\n",
    "### Feel free to use as many code cells as needed."
   ]
  },
  {
   "cell_type": "code",
   "execution_count": 66,
   "metadata": {},
   "outputs": [
    {
     "name": "stdout",
     "output_type": "stream",
     "text": [
      "done\n"
     ]
    }
   ],
   "source": [
    "import tensorflow as tf\n",
    "\n",
    "EPOCHS = 60\n",
    "BATCH_SIZE = 100\n",
    "\n",
    "print('done')"
   ]
  },
  {
   "cell_type": "code",
   "execution_count": 148,
   "metadata": {},
   "outputs": [
    {
     "name": "stdout",
     "output_type": "stream",
     "text": [
      "done\n"
     ]
    }
   ],
   "source": [
    "from tensorflow.contrib.layers import flatten\n",
    "\n",
    "def LeNet(x):    \n",
    "    # Hyperparameters\n",
    "    mu = 0\n",
    "    sigma = 0.1\n",
    "    \n",
    "    # Layer 1: Convolutional. Input = 32x32x3. Output = 28x28x6.\n",
    "    W1 = tf.Variable(tf.truncated_normal(shape=(5, 5, 3, 10), mean = mu, stddev = sigma))\n",
    "    x = tf.nn.conv2d(x, W1, strides=[1, 1, 1, 1], padding='VALID')\n",
    "    b1 = tf.Variable(tf.zeros(10))\n",
    "    x = tf.nn.bias_add(x, b1)\n",
    "    print(\"layer 1 shape:\",x.get_shape())\n",
    "\n",
    "    # Activation.\n",
    "    x = tf.nn.relu(x)\n",
    "    print(\"layer 1 shape:\",x.get_shape())\n",
    "    \n",
    "    # Pooling. Input = 28x28x10. Output = 14x14x10.\n",
    "    x = tf.nn.max_pool(x, ksize=[1, 2, 2, 1], strides=[1, 2, 2, 1], padding='VALID')\n",
    "    print(\"layer 1 shape:\",x.get_shape())\n",
    "    \n",
    "    # Layer 2: Convolutional. Output = 10x10x20.\n",
    "    W2 = tf.Variable(tf.truncated_normal(shape=(5, 5, 10, 20), mean = mu, stddev = sigma))\n",
    "    x = tf.nn.conv2d(x, W2, strides=[1, 1, 1, 1], padding='VALID')\n",
    "    b2 = tf.Variable(tf.zeros(20))\n",
    "    x = tf.nn.bias_add(x, b2)\n",
    "    print(\"layer 1 shape:\",x.get_shape())\n",
    "                     \n",
    "    # Activation.\n",
    "    x = tf.nn.relu(x)\n",
    "    print(\"layer 1 shape:\",x.get_shape())\n",
    "\n",
    "    # Pooling. Input = 10x10x20. Output = 5x5x20.\n",
    "    x = tf.nn.max_pool(x, ksize=[1, 2, 2, 1], strides=[1, 2, 2, 1], padding='VALID')\n",
    "    print(\"layer 1 shape:\",x.get_shape())\n",
    "\n",
    "    # Flatten. Input = 5x5x20. Output = 500.\n",
    "    x = flatten(x)\n",
    "    print(\"layer 1 shape:\",x.get_shape())\n",
    "    \n",
    "    # Layer 3: Fully Connected. Input = 500. Output = 180.\n",
    "    W3 = tf.Variable(tf.truncated_normal(shape=(500, 220), mean = mu, stddev = sigma))\n",
    "    b3 = tf.Variable(tf.zeros(220))    \n",
    "    x = tf.add(tf.matmul(x, W3), b3)\n",
    "    print(\"layer 1 shape:\",x.get_shape())\n",
    "    \n",
    "    # Activation.\n",
    "    x = tf.nn.relu(x)\n",
    "    print(\"layer 1 shape:\",x.get_shape())\n",
    "\n",
    "    # Layer 4: Fully Connected. Input = 180. Output = 180.\n",
    "    W4 = tf.Variable(tf.truncated_normal(shape=(220,220), mean = mu, stddev = sigma))\n",
    "    b4 = tf.Variable(tf.zeros(220))   \n",
    "    x = tf.add(tf.matmul(x, W4), b4)\n",
    "    print(\"layer 1 shape:\",x.get_shape())\n",
    "    \n",
    "    # Activation.\n",
    "    x = tf.nn.relu(x)\n",
    "    print(\"layer 1 shape:\",x.get_shape())\n",
    "    \n",
    "    # Layer 4: Fully Connected. Input = 180. Output = 180.\n",
    "    W4 = tf.Variable(tf.truncated_normal(shape=(220, 120), mean = mu, stddev = sigma))\n",
    "    b4 = tf.Variable(tf.zeros(120))    \n",
    "    x = tf.add(tf.matmul(x, W4), b4)\n",
    "    print(\"layer 1 shape:\",x.get_shape())\n",
    "    \n",
    "    # Activation.\n",
    "    x = tf.nn.relu(x)\n",
    "    print(\"layer 1 shape:\",x.get_shape())\n",
    "\n",
    "    # Layer 5: Fully Connected. Input = 120. Output = 84.\n",
    "    W5 = tf.Variable(tf.truncated_normal(shape=(120, 84), mean = mu, stddev = sigma))\n",
    "    b5 = tf.Variable(tf.zeros(84)) \n",
    "    x = tf.add(tf.matmul(x, W5), b5)\n",
    "    print(\"layer 1 shape:\",x.get_shape())\n",
    "    \n",
    "    # Activation.\n",
    "    x = tf.nn.relu(x)\n",
    "    print(\"layer 1 shape:\",x.get_shape())\n",
    "\n",
    "    # Layer 6: Fully Connected. Input = 84. Output = 43.\n",
    "    W7 = tf.Variable(tf.truncated_normal(shape=(84, 43), mean = mu, stddev = sigma))\n",
    "    b7 = tf.Variable(tf.zeros(43)) \n",
    "    logits = tf.add(tf.matmul(x, W7), b7)\n",
    "    print(\"layer 1 shape:\",logits.get_shape())\n",
    "    \n",
    "    return logits\n",
    "\n",
    "print('done')"
   ]
  },
  {
   "cell_type": "code",
   "execution_count": 149,
   "metadata": {},
   "outputs": [
    {
     "name": "stdout",
     "output_type": "stream",
     "text": [
      "done\n"
     ]
    }
   ],
   "source": [
    "tf.reset_default_graph() \n",
    "\n",
    "x = tf.placeholder(tf.float32, (None, 32, 32, 3))\n",
    "y = tf.placeholder(tf.int32, (None))\n",
    "keep_prob = tf.placeholder(tf.float32) # probability to keep units\n",
    "one_hot_y = tf.one_hot(y, 43)\n",
    "\n",
    "print('done')"
   ]
  },
  {
   "cell_type": "markdown",
   "metadata": {},
   "source": [
    "### Train, Validate and Test the Model"
   ]
  },
  {
   "cell_type": "markdown",
   "metadata": {},
   "source": [
    "A validation set can be used to assess how well the model is performing. A low accuracy on the training and validation\n",
    "sets imply underfitting. A high accuracy on the training set but low accuracy on the validation set implies overfitting."
   ]
  },
  {
   "cell_type": "code",
   "execution_count": 150,
   "metadata": {
    "collapsed": true
   },
   "outputs": [],
   "source": [
    "### Train your model here.\n",
    "### Calculate and report the accuracy on the training and validation set.\n",
    "### Once a final model architecture is selected, \n",
    "### the accuracy on the test set should be calculated and reported as well.\n",
    "### Feel free to use as many code cells as needed."
   ]
  },
  {
   "cell_type": "code",
   "execution_count": 151,
   "metadata": {},
   "outputs": [
    {
     "name": "stdout",
     "output_type": "stream",
     "text": [
      "layer 1 shape: (?, 28, 28, 10)\n",
      "layer 1 shape: (?, 28, 28, 10)\n",
      "layer 1 shape: (?, 14, 14, 10)\n",
      "layer 1 shape: (?, 10, 10, 20)\n",
      "layer 1 shape: (?, 10, 10, 20)\n",
      "layer 1 shape: (?, 5, 5, 20)\n",
      "layer 1 shape: (?, 500)\n",
      "layer 1 shape: (?, 220)\n",
      "layer 1 shape: (?, 220)\n",
      "layer 1 shape: (?, 220)\n",
      "layer 1 shape: (?, 220)\n",
      "layer 1 shape: (?, 120)\n",
      "layer 1 shape: (?, 120)\n",
      "layer 1 shape: (?, 84)\n",
      "layer 1 shape: (?, 84)\n",
      "layer 1 shape: (?, 43)\n"
     ]
    }
   ],
   "source": [
    "rate = 0.0009\n",
    "\n",
    "logits = LeNet(x)\n",
    "cross_entropy = tf.nn.softmax_cross_entropy_with_logits(logits, one_hot_y)\n",
    "loss_operation = tf.reduce_mean(cross_entropy)\n",
    "optimizer = tf.train.AdamOptimizer(learning_rate = rate)\n",
    "training_operation = optimizer.minimize(loss_operation)"
   ]
  },
  {
   "cell_type": "code",
   "execution_count": 152,
   "metadata": {},
   "outputs": [
    {
     "name": "stdout",
     "output_type": "stream",
     "text": [
      "done\n"
     ]
    }
   ],
   "source": [
    "correct_prediction = tf.equal(tf.argmax(logits, 1), tf.argmax(one_hot_y, 1))\n",
    "accuracy_operation = tf.reduce_mean(tf.cast(correct_prediction, tf.float32))\n",
    "saver = tf.train.Saver()\n",
    "\n",
    "def evaluate(X_data, y_data):\n",
    "    num_examples = len(X_data)\n",
    "    total_accuracy = 0\n",
    "    sess = tf.get_default_session()\n",
    "    for offset in range(0, num_examples, BATCH_SIZE):\n",
    "        batch_x, batch_y = X_data[offset:offset+BATCH_SIZE], y_data[offset:offset+BATCH_SIZE]\n",
    "        accuracy = sess.run(accuracy_operation, feed_dict={x: batch_x, y: batch_y, keep_prob: 1.0})\n",
    "        total_accuracy += (accuracy * len(batch_x))\n",
    "    return total_accuracy / num_examples\n",
    "\n",
    "print('done')"
   ]
  },
  {
   "cell_type": "code",
   "execution_count": 153,
   "metadata": {},
   "outputs": [
    {
     "name": "stdout",
     "output_type": "stream",
     "text": [
      "Training...\n",
      "\n",
      "EPOCH 1 ...\n",
      "Training Accuracy = 0.838\n",
      "Validation Accuracy = 0.838\n",
      "\n",
      "EPOCH 2 ...\n",
      "Training Accuracy = 0.934\n",
      "Validation Accuracy = 0.934\n",
      "\n",
      "EPOCH 3 ...\n",
      "Training Accuracy = 0.959\n",
      "Validation Accuracy = 0.959\n",
      "\n",
      "EPOCH 4 ...\n",
      "Training Accuracy = 0.962\n",
      "Validation Accuracy = 0.962\n",
      "\n",
      "EPOCH 5 ...\n",
      "Training Accuracy = 0.958\n",
      "Validation Accuracy = 0.958\n",
      "\n",
      "EPOCH 6 ...\n",
      "Training Accuracy = 0.973\n",
      "Validation Accuracy = 0.973\n",
      "\n",
      "EPOCH 7 ...\n",
      "Training Accuracy = 0.972\n",
      "Validation Accuracy = 0.972\n",
      "\n",
      "EPOCH 8 ...\n",
      "Training Accuracy = 0.964\n",
      "Validation Accuracy = 0.964\n",
      "\n",
      "EPOCH 9 ...\n",
      "Training Accuracy = 0.981\n",
      "Validation Accuracy = 0.981\n",
      "\n",
      "EPOCH 10 ...\n",
      "Training Accuracy = 0.980\n",
      "Validation Accuracy = 0.980\n",
      "\n",
      "EPOCH 11 ...\n",
      "Training Accuracy = 0.981\n",
      "Validation Accuracy = 0.981\n",
      "\n",
      "EPOCH 12 ...\n",
      "Training Accuracy = 0.982\n",
      "Validation Accuracy = 0.982\n",
      "\n",
      "EPOCH 13 ...\n",
      "Training Accuracy = 0.983\n",
      "Validation Accuracy = 0.983\n",
      "\n",
      "EPOCH 14 ...\n",
      "Training Accuracy = 0.983\n",
      "Validation Accuracy = 0.983\n",
      "\n",
      "EPOCH 15 ...\n",
      "Training Accuracy = 0.983\n",
      "Validation Accuracy = 0.983\n",
      "\n",
      "EPOCH 16 ...\n",
      "Training Accuracy = 0.981\n",
      "Validation Accuracy = 0.981\n",
      "\n",
      "EPOCH 17 ...\n",
      "Training Accuracy = 0.981\n",
      "Validation Accuracy = 0.981\n",
      "\n",
      "EPOCH 18 ...\n",
      "Training Accuracy = 0.986\n",
      "Validation Accuracy = 0.986\n",
      "\n",
      "EPOCH 19 ...\n",
      "Training Accuracy = 0.981\n",
      "Validation Accuracy = 0.981\n",
      "\n",
      "EPOCH 20 ...\n",
      "Training Accuracy = 0.986\n",
      "Validation Accuracy = 0.986\n",
      "\n",
      "EPOCH 21 ...\n",
      "Training Accuracy = 0.982\n",
      "Validation Accuracy = 0.982\n",
      "\n",
      "EPOCH 22 ...\n",
      "Training Accuracy = 0.984\n",
      "Validation Accuracy = 0.984\n",
      "\n",
      "EPOCH 23 ...\n",
      "Training Accuracy = 0.988\n",
      "Validation Accuracy = 0.988\n",
      "\n",
      "EPOCH 24 ...\n",
      "Training Accuracy = 0.975\n",
      "Validation Accuracy = 0.975\n",
      "\n",
      "EPOCH 25 ...\n",
      "Training Accuracy = 0.983\n",
      "Validation Accuracy = 0.983\n",
      "\n",
      "EPOCH 26 ...\n",
      "Training Accuracy = 0.986\n",
      "Validation Accuracy = 0.986\n",
      "\n",
      "EPOCH 27 ...\n",
      "Training Accuracy = 0.970\n",
      "Validation Accuracy = 0.970\n",
      "\n",
      "EPOCH 28 ...\n",
      "Training Accuracy = 0.985\n",
      "Validation Accuracy = 0.985\n",
      "\n",
      "EPOCH 29 ...\n",
      "Training Accuracy = 0.990\n",
      "Validation Accuracy = 0.990\n",
      "\n",
      "EPOCH 30 ...\n",
      "Training Accuracy = 0.991\n",
      "Validation Accuracy = 0.991\n",
      "\n",
      "EPOCH 31 ...\n",
      "Training Accuracy = 0.991\n",
      "Validation Accuracy = 0.991\n",
      "\n",
      "EPOCH 32 ...\n",
      "Training Accuracy = 0.991\n",
      "Validation Accuracy = 0.991\n",
      "\n",
      "EPOCH 33 ...\n",
      "Training Accuracy = 0.991\n",
      "Validation Accuracy = 0.991\n",
      "\n",
      "EPOCH 34 ...\n",
      "Training Accuracy = 0.991\n",
      "Validation Accuracy = 0.991\n",
      "\n",
      "EPOCH 35 ...\n",
      "Training Accuracy = 0.991\n",
      "Validation Accuracy = 0.991\n",
      "\n",
      "EPOCH 36 ...\n",
      "Training Accuracy = 0.991\n",
      "Validation Accuracy = 0.991\n",
      "\n",
      "EPOCH 37 ...\n",
      "Training Accuracy = 0.991\n",
      "Validation Accuracy = 0.991\n",
      "\n",
      "EPOCH 38 ...\n",
      "Training Accuracy = 0.991\n",
      "Validation Accuracy = 0.991\n",
      "\n",
      "EPOCH 39 ...\n",
      "Training Accuracy = 0.991\n",
      "Validation Accuracy = 0.991\n",
      "\n",
      "EPOCH 40 ...\n",
      "Training Accuracy = 0.991\n",
      "Validation Accuracy = 0.991\n",
      "\n",
      "EPOCH 41 ...\n",
      "Training Accuracy = 0.991\n",
      "Validation Accuracy = 0.991\n",
      "\n",
      "EPOCH 42 ...\n",
      "Training Accuracy = 0.991\n",
      "Validation Accuracy = 0.991\n",
      "\n",
      "EPOCH 43 ...\n",
      "Training Accuracy = 0.991\n",
      "Validation Accuracy = 0.991\n",
      "\n",
      "EPOCH 44 ...\n",
      "Training Accuracy = 0.991\n",
      "Validation Accuracy = 0.991\n",
      "\n",
      "EPOCH 45 ...\n",
      "Training Accuracy = 0.991\n",
      "Validation Accuracy = 0.991\n",
      "\n",
      "EPOCH 46 ...\n",
      "Training Accuracy = 0.991\n",
      "Validation Accuracy = 0.991\n",
      "\n",
      "EPOCH 47 ...\n",
      "Training Accuracy = 0.991\n",
      "Validation Accuracy = 0.991\n",
      "\n",
      "EPOCH 48 ...\n",
      "Training Accuracy = 0.991\n",
      "Validation Accuracy = 0.991\n",
      "\n",
      "EPOCH 49 ...\n",
      "Training Accuracy = 0.991\n",
      "Validation Accuracy = 0.991\n",
      "\n",
      "EPOCH 50 ...\n",
      "Training Accuracy = 0.991\n",
      "Validation Accuracy = 0.991\n",
      "\n",
      "EPOCH 51 ...\n",
      "Training Accuracy = 0.991\n",
      "Validation Accuracy = 0.991\n",
      "\n",
      "EPOCH 52 ...\n",
      "Training Accuracy = 0.991\n",
      "Validation Accuracy = 0.991\n",
      "\n",
      "EPOCH 53 ...\n",
      "Training Accuracy = 0.991\n",
      "Validation Accuracy = 0.991\n",
      "\n",
      "EPOCH 54 ...\n",
      "Training Accuracy = 0.991\n",
      "Validation Accuracy = 0.991\n",
      "\n",
      "EPOCH 55 ...\n",
      "Training Accuracy = 0.991\n",
      "Validation Accuracy = 0.991\n",
      "\n",
      "EPOCH 56 ...\n",
      "Training Accuracy = 0.991\n",
      "Validation Accuracy = 0.991\n",
      "\n",
      "EPOCH 57 ...\n",
      "Training Accuracy = 0.991\n",
      "Validation Accuracy = 0.991\n",
      "\n",
      "EPOCH 58 ...\n",
      "Training Accuracy = 0.991\n",
      "Validation Accuracy = 0.991\n",
      "\n",
      "EPOCH 59 ...\n",
      "Training Accuracy = 0.991\n",
      "Validation Accuracy = 0.991\n",
      "\n",
      "EPOCH 60 ...\n",
      "Training Accuracy = 0.991\n",
      "Validation Accuracy = 0.991\n",
      "\n",
      "Model saved\n"
     ]
    }
   ],
   "source": [
    "from sklearn.utils import shuffle\n",
    "\n",
    "with tf.Session() as sess:\n",
    "    sess.run(tf.global_variables_initializer())\n",
    "    num_examples = len(X_train)\n",
    "    \n",
    "    print(\"Training...\")\n",
    "    print()\n",
    "    for i in range(EPOCHS):\n",
    "        X_Train_augmented, y_train_augmented = shuffle(X_train_augmented, y_train_augmented)\n",
    "        for offset in range(0, num_examples, BATCH_SIZE):\n",
    "            end = offset + BATCH_SIZE\n",
    "            batch_x, batch_y = X_train_transformed[offset:end], y_train[offset:end]\n",
    "            sess.run(training_operation, feed_dict={x: batch_x, y: batch_y, keep_prob: 0.5})\n",
    "            \n",
    "        validation_accuracy = evaluate(X_valid_transformed, y_valid)\n",
    "        train_accuracy = evaluate(X_train_transformed, y_train)\n",
    "        print(\"EPOCH {} ...\".format(i+1))\n",
    "        print(\"Training Accuracy = {:.3f}\".format(validation_accuracy))\n",
    "        print(\"Validation Accuracy = {:.3f}\".format(validation_accuracy))\n",
    "        print()\n",
    "        \n",
    "    saver.save(sess, 'lenet')\n",
    "    print(\"Model saved\")"
   ]
  },
  {
   "cell_type": "markdown",
   "metadata": {},
   "source": [
    "---\n",
    "\n",
    "## Step 3: Test a Model on New Images\n",
    "\n",
    "To give yourself more insight into how your model is working, download at least five pictures of German traffic signs from the web and use your model to predict the traffic sign type.\n",
    "\n",
    "You may find `signnames.csv` useful as it contains mappings from the class id (integer) to the actual sign name."
   ]
  },
  {
   "cell_type": "markdown",
   "metadata": {},
   "source": [
    "### Load and Output the Images"
   ]
  },
  {
   "cell_type": "code",
   "execution_count": null,
   "metadata": {
    "collapsed": true
   },
   "outputs": [],
   "source": [
    "### Load the images and plot them here.\n",
    "### Feel free to use as many code cells as needed."
   ]
  },
  {
   "cell_type": "markdown",
   "metadata": {},
   "source": [
    "### Predict the Sign Type for Each Image"
   ]
  },
  {
   "cell_type": "code",
   "execution_count": null,
   "metadata": {
    "collapsed": true
   },
   "outputs": [],
   "source": [
    "### Run the predictions here and use the model to output the prediction for each image.\n",
    "### Make sure to pre-process the images with the same pre-processing pipeline used earlier.\n",
    "### Feel free to use as many code cells as needed."
   ]
  },
  {
   "cell_type": "markdown",
   "metadata": {},
   "source": [
    "### Analyze Performance"
   ]
  },
  {
   "cell_type": "code",
   "execution_count": null,
   "metadata": {
    "collapsed": true
   },
   "outputs": [],
   "source": [
    "### Calculate the accuracy for these 5 new images. \n",
    "### For example, if the model predicted 1 out of 5 signs correctly, it's 20% accurate on these new images."
   ]
  },
  {
   "cell_type": "markdown",
   "metadata": {},
   "source": [
    "### Output Top 5 Softmax Probabilities For Each Image Found on the Web"
   ]
  },
  {
   "cell_type": "markdown",
   "metadata": {},
   "source": [
    "For each of the new images, print out the model's softmax probabilities to show the **certainty** of the model's predictions (limit the output to the top 5 probabilities for each image). [`tf.nn.top_k`](https://www.tensorflow.org/versions/r0.12/api_docs/python/nn.html#top_k) could prove helpful here. \n",
    "\n",
    "The example below demonstrates how tf.nn.top_k can be used to find the top k predictions for each image.\n",
    "\n",
    "`tf.nn.top_k` will return the values and indices (class ids) of the top k predictions. So if k=3, for each sign, it'll return the 3 largest probabilities (out of a possible 43) and the correspoding class ids.\n",
    "\n",
    "Take this numpy array as an example. The values in the array represent predictions. The array contains softmax probabilities for five candidate images with six possible classes. `tk.nn.top_k` is used to choose the three classes with the highest probability:\n",
    "\n",
    "```\n",
    "# (5, 6) array\n",
    "a = np.array([[ 0.24879643,  0.07032244,  0.12641572,  0.34763842,  0.07893497,\n",
    "         0.12789202],\n",
    "       [ 0.28086119,  0.27569815,  0.08594638,  0.0178669 ,  0.18063401,\n",
    "         0.15899337],\n",
    "       [ 0.26076848,  0.23664738,  0.08020603,  0.07001922,  0.1134371 ,\n",
    "         0.23892179],\n",
    "       [ 0.11943333,  0.29198961,  0.02605103,  0.26234032,  0.1351348 ,\n",
    "         0.16505091],\n",
    "       [ 0.09561176,  0.34396535,  0.0643941 ,  0.16240774,  0.24206137,\n",
    "         0.09155967]])\n",
    "```\n",
    "\n",
    "Running it through `sess.run(tf.nn.top_k(tf.constant(a), k=3))` produces:\n",
    "\n",
    "```\n",
    "TopKV2(values=array([[ 0.34763842,  0.24879643,  0.12789202],\n",
    "       [ 0.28086119,  0.27569815,  0.18063401],\n",
    "       [ 0.26076848,  0.23892179,  0.23664738],\n",
    "       [ 0.29198961,  0.26234032,  0.16505091],\n",
    "       [ 0.34396535,  0.24206137,  0.16240774]]), indices=array([[3, 0, 5],\n",
    "       [0, 1, 4],\n",
    "       [0, 5, 1],\n",
    "       [1, 3, 5],\n",
    "       [1, 4, 3]], dtype=int32))\n",
    "```\n",
    "\n",
    "Looking just at the first row we get `[ 0.34763842,  0.24879643,  0.12789202]`, you can confirm these are the 3 largest probabilities in `a`. You'll also notice `[3, 0, 5]` are the corresponding indices."
   ]
  },
  {
   "cell_type": "code",
   "execution_count": null,
   "metadata": {
    "collapsed": true
   },
   "outputs": [],
   "source": [
    "### Print out the top five softmax probabilities for the predictions on the German traffic sign images found on the web. \n",
    "### Feel free to use as many code cells as needed."
   ]
  },
  {
   "cell_type": "markdown",
   "metadata": {},
   "source": [
    "### Project Writeup\n",
    "\n",
    "Once you have completed the code implementation, document your results in a project writeup using this [template](https://github.com/udacity/CarND-Traffic-Sign-Classifier-Project/blob/master/writeup_template.md) as a guide. The writeup can be in a markdown or pdf file. "
   ]
  },
  {
   "cell_type": "markdown",
   "metadata": {},
   "source": [
    "> **Note**: Once you have completed all of the code implementations and successfully answered each question above, you may finalize your work by exporting the iPython Notebook as an HTML document. You can do this by using the menu above and navigating to  \\n\",\n",
    "    \"**File -> Download as -> HTML (.html)**. Include the finished document along with this notebook as your submission."
   ]
  },
  {
   "cell_type": "markdown",
   "metadata": {},
   "source": [
    "---\n",
    "\n",
    "## Step 4 (Optional): Visualize the Neural Network's State with Test Images\n",
    "\n",
    " This Section is not required to complete but acts as an additional excersise for understaning the output of a neural network's weights. While neural networks can be a great learning device they are often referred to as a black box. We can understand what the weights of a neural network look like better by plotting their feature maps. After successfully training your neural network you can see what it's feature maps look like by plotting the output of the network's weight layers in response to a test stimuli image. From these plotted feature maps, it's possible to see what characteristics of an image the network finds interesting. For a sign, maybe the inner network feature maps react with high activation to the sign's boundary outline or to the contrast in the sign's painted symbol.\n",
    "\n",
    " Provided for you below is the function code that allows you to get the visualization output of any tensorflow weight layer you want. The inputs to the function should be a stimuli image, one used during training or a new one you provided, and then the tensorflow variable name that represents the layer's state during the training process, for instance if you wanted to see what the [LeNet lab's](https://classroom.udacity.com/nanodegrees/nd013/parts/fbf77062-5703-404e-b60c-95b78b2f3f9e/modules/6df7ae49-c61c-4bb2-a23e-6527e69209ec/lessons/601ae704-1035-4287-8b11-e2c2716217ad/concepts/d4aca031-508f-4e0b-b493-e7b706120f81) feature maps looked like for it's second convolutional layer you could enter conv2 as the tf_activation variable.\n",
    "\n",
    "For an example of what feature map outputs look like, check out NVIDIA's results in their paper [End-to-End Deep Learning for Self-Driving Cars](https://devblogs.nvidia.com/parallelforall/deep-learning-self-driving-cars/) in the section Visualization of internal CNN State. NVIDIA was able to show that their network's inner weights had high activations to road boundary lines by comparing feature maps from an image with a clear path to one without. Try experimenting with a similar test to show that your trained network's weights are looking for interesting features, whether it's looking at differences in feature maps from images with or without a sign, or even what feature maps look like in a trained network vs a completely untrained one on the same sign image.\n",
    "\n",
    "<figure>\n",
    " <img src=\"visualize_cnn.png\" width=\"380\" alt=\"Combined Image\" />\n",
    " <figcaption>\n",
    " <p></p> \n",
    " <p style=\"text-align: center;\"> Your output should look something like this (above)</p> \n",
    " </figcaption>\n",
    "</figure>\n",
    " <p></p> \n"
   ]
  },
  {
   "cell_type": "code",
   "execution_count": null,
   "metadata": {
    "collapsed": true
   },
   "outputs": [],
   "source": [
    "### Visualize your network's feature maps here.\n",
    "### Feel free to use as many code cells as needed.\n",
    "\n",
    "# image_input: the test image being fed into the network to produce the feature maps\n",
    "# tf_activation: should be a tf variable name used during your training procedure that represents the calculated state of a specific weight layer\n",
    "# activation_min/max: can be used to view the activation contrast in more detail, by default matplot sets min and max to the actual min and max values of the output\n",
    "# plt_num: used to plot out multiple different weight feature map sets on the same block, just extend the plt number for each new feature map entry\n",
    "\n",
    "def outputFeatureMap(image_input, tf_activation, activation_min=-1, activation_max=-1 ,plt_num=1):\n",
    "    # Here make sure to preprocess your image_input in a way your network expects\n",
    "    # with size, normalization, ect if needed\n",
    "    # image_input =\n",
    "    # Note: x should be the same name as your network's tensorflow data placeholder variable\n",
    "    # If you get an error tf_activation is not defined it may be having trouble accessing the variable from inside a function\n",
    "    activation = tf_activation.eval(session=sess,feed_dict={x : image_input})\n",
    "    featuremaps = activation.shape[3]\n",
    "    plt.figure(plt_num, figsize=(15,15))\n",
    "    for featuremap in range(featuremaps):\n",
    "        plt.subplot(6,8, featuremap+1) # sets the number of feature maps to show on each row and column\n",
    "        plt.title('FeatureMap ' + str(featuremap)) # displays the feature map number\n",
    "        if activation_min != -1 & activation_max != -1:\n",
    "            plt.imshow(activation[0,:,:, featuremap], interpolation=\"nearest\", vmin =activation_min, vmax=activation_max, cmap=\"gray\")\n",
    "        elif activation_max != -1:\n",
    "            plt.imshow(activation[0,:,:, featuremap], interpolation=\"nearest\", vmax=activation_max, cmap=\"gray\")\n",
    "        elif activation_min !=-1:\n",
    "            plt.imshow(activation[0,:,:, featuremap], interpolation=\"nearest\", vmin=activation_min, cmap=\"gray\")\n",
    "        else:\n",
    "            plt.imshow(activation[0,:,:, featuremap], interpolation=\"nearest\", cmap=\"gray\")"
   ]
  }
 ],
 "metadata": {
  "anaconda-cloud": {},
  "kernelspec": {
   "display_name": "Python 3",
   "language": "python",
   "name": "python3"
  },
  "language_info": {
   "codemirror_mode": {
    "name": "ipython",
    "version": 3
   },
   "file_extension": ".py",
   "mimetype": "text/x-python",
   "name": "python",
   "nbconvert_exporter": "python",
   "pygments_lexer": "ipython3",
   "version": "3.5.2"
  },
  "widgets": {
   "state": {},
   "version": "1.1.2"
  }
 },
 "nbformat": 4,
 "nbformat_minor": 1
}
